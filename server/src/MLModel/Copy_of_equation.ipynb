{
  "cells": [
    {
      "cell_type": "code",
      "execution_count": null,
      "metadata": {
        "colab": {
          "base_uri": "https://localhost:8080/"
        },
        "id": "Hl_7PtVd8Vjz",
        "outputId": "970fcaa1-b722-4302-8642-ad723af30fe7"
      },
      "outputs": [
        {
          "name": "stdout",
          "output_type": "stream",
          "text": [
            "Drive already mounted at /content/drive; to attempt to forcibly remount, call drive.mount(\"/content/drive\", force_remount=True).\n"
          ]
        }
      ],
      "source": [
        "from google.colab import drive\n",
        "drive.mount('/content/drive')"
      ]
    },
    {
      "cell_type": "code",
      "execution_count": 8,
      "metadata": {
        "id": "gxHtSonmWMjG"
      },
      "outputs": [],
      "source": [
        "import pandas as pd\n",
        "import numpy as np\n",
        "import matplotlib.pyplot as plt\n",
        "from PIL import Image"
      ]
    },
    {
      "attachments": {},
      "cell_type": "markdown",
      "metadata": {
        "id": "XPNv-eNNfHUw"
      },
      "source": [
        "# Traitement des donnees pour le modele"
      ]
    },
    {
      "cell_type": "code",
      "execution_count": null,
      "metadata": {
        "colab": {
          "base_uri": "https://localhost:8080/"
        },
        "id": "9G3v_CQ79cGA",
        "outputId": "4cfb7bf2-3a0f-4b9e-d5e4-00d64789c404"
      },
      "outputs": [
        {
          "name": "stderr",
          "output_type": "stream",
          "text": [
            "<ipython-input-113-6f88383f140d>:1: DtypeWarning: Columns (785) have mixed types. Specify dtype option on import or set low_memory=False.\n",
            "  operations = pd.read_csv('/content/drive/MyDrive/Colab Notebooks/Equation/Copy of data.csv')\n"
          ]
        }
      ],
      "source": [
        "operations = pd.read_csv('/content/drive/MyDrive/Colab Notebooks/Equation/Copy of data.csv')\n",
        "operations = operations.drop('Unnamed: 0', axis=1)\n",
        "operators = {\"[\" : 10, \"]\" : 11, \"%\" : 12, \"*\" : 13, \"+\" : 14, \"-\" : 15, \"E\": 17}\n",
        "for key, value in operators.items():\n",
        "  operations.loc[(operations['784'] == key), '784'] = value"
      ]
    },
    {
      "cell_type": "code",
      "execution_count": null,
      "metadata": {
        "id": "m4Cx5wDAIH5l"
      },
      "outputs": [],
      "source": [
        "alphabet = pd.read_csv('/content/drive/MyDrive/Colab Notebooks/Equation/q.csv')"
      ]
    },
    {
      "attachments": {},
      "cell_type": "markdown",
      "metadata": {
        "id": "FsQ4YGzDA1JW"
      },
      "source": []
    },
    {
      "attachments": {},
      "cell_type": "markdown",
      "metadata": {
        "id": "23vrDwTMkhmX"
      },
      "source": [
        "# Prendre une lettre par rapport a son numero"
      ]
    },
    {
      "cell_type": "code",
      "execution_count": null,
      "metadata": {
        "id": "3acOd1pXbK5Q"
      },
      "outputs": [],
      "source": [
        "# Data for operations image\n",
        "X_operations = operations.iloc[:, 0:-1].values\n",
        "y_operations = operations.iloc[:, -1].values\n",
        "\n",
        "# Data for alphabets image\n",
        "y_alphabet = alphabet.iloc[:, 1].values\n",
        "X_alphabet = []  \n",
        "for index in range(0, alphabet.shape[0]):\n",
        "  img = alphabet.iloc[index, 1:-1].values\n",
        "  image = img.reshape((28, 28))\n",
        "  image = image[4:len(image) - 4, 4:len(image) - 4]\n",
        "  image[(image) < (255 / 2)] = 0\n",
        "  image[(image) > (255 / 2)] = 255\n",
        "  img = Image.fromarray(image.astype('uint8'))\n",
        "  img = img.resize((28, 28))\n",
        "  array = np.array(img)\n",
        "  image = array.reshape(784)\n",
        "  X_alphabet.append(image)\n",
        "X_alphabet = np.array(X_alphabet)\n",
        "\n",
        "# Concatenate the letters data and operations data\n",
        "X_data = np.concatenate((X_operations, X_alphabet))\n",
        "y_data = np.concatenate((y_operations, y_alphabet))\n",
        "X_data[X_data != 255] = 0"
      ]
    },
    {
      "cell_type": "code",
      "execution_count": null,
      "metadata": {
        "colab": {
          "base_uri": "https://localhost:8080/"
        },
        "id": "K2KEiQS9NIWy",
        "outputId": "32f9dd52-01f0-4572-cb6b-3bf2d471b146"
      },
      "outputs": [
        {
          "data": {
            "text/plain": [
              "(5812, 784)"
            ]
          },
          "execution_count": 135,
          "metadata": {},
          "output_type": "execute_result"
        }
      ],
      "source": []
    },
    {
      "cell_type": "code",
      "execution_count": null,
      "metadata": {
        "colab": {
          "base_uri": "https://localhost:8080/",
          "height": 430
        },
        "id": "Z6KmRkXjPKGw",
        "outputId": "5542444c-84fa-4287-89c5-d342617f2f6e"
      },
      "outputs": [
        {
          "data": {
            "image/png": "[encoded data removed]",
            "text/plain": [
              "<Figure size 640x480 with 1 Axes>"
            ]
          },
          "metadata": {},
          "output_type": "display_data"
        }
      ],
      "source": [
        "index = 200\n",
        "img = operations[operations['784'] == 1].iloc[index, :-1].values.astype(float)\n",
        "image = img.reshape((28, 28))\n",
        "image[(image) < (255 / 2)] = 0\n",
        "image[(image) > (255 / 2)] = 255\n",
        "plt.imshow(image, cmap='gray')\n",
        "plt.show()"
      ]
    },
    {
      "cell_type": "code",
      "execution_count": null,
      "metadata": {
        "id": "KBKxeKEBrKrU"
      },
      "outputs": [],
      "source": [
        "y_data = y_data.astype('int')"
      ]
    },
    {
      "attachments": {},
      "cell_type": "markdown",
      "metadata": {
        "id": "AdQN_7N7fZ2Q"
      },
      "source": [
        "\n",
        "# Training Model with Random Forest"
      ]
    },
    {
      "cell_type": "code",
      "execution_count": null,
      "metadata": {
        "id": "i7AN1xGKmGcH"
      },
      "outputs": [],
      "source": [
        "from sklearn.model_selection import train_test_split\n",
        "X_train, X_test, y_train, y_test = train_test_split(X_data, y_data, test_size = 0.2)"
      ]
    },
    {
      "cell_type": "code",
      "execution_count": null,
      "metadata": {
        "id": "ym-pSF8TfkF5"
      },
      "outputs": [],
      "source": [
        "from sklearn.ensemble import RandomForestClassifier\n",
        "forest_model = RandomForestClassifier(random_state=0)\n",
        "forest_model = forest_model.fit(X_train, y_train)"
      ]
    },
    {
      "cell_type": "code",
      "execution_count": null,
      "metadata": {
        "id": "ir3zbynJKLmy"
      },
      "outputs": [],
      "source": [
        "y_pred =  forest_model.predict(X_test)"
      ]
    },
    {
      "cell_type": "code",
      "execution_count": null,
      "metadata": {
        "colab": {
          "base_uri": "https://localhost:8080/"
        },
        "id": "4Axz6_lwPUK4",
        "outputId": "0264656d-2836-4eab-e6f5-d961f89c062a"
      },
      "outputs": [
        {
          "name": "stdout",
          "output_type": "stream",
          "text": [
            "93.32158784341794\n"
          ]
        }
      ],
      "source": [
        "from sklearn.metrics import accuracy_score\n",
        "print(accuracy_score(y_test, y_pred) * 100)"
      ]
    },
    {
      "attachments": {},
      "cell_type": "markdown",
      "metadata": {
        "id": "FnZV1U-vfqog"
      },
      "source": [
        "# Algorithme pour convertir un image en matrix de pixel"
      ]
    },
    {
      "cell_type": "code",
      "execution_count": 2,
      "metadata": {
        "id": "yWXG-a35fumk"
      },
      "outputs": [],
      "source": [
        "def convert_image_to_matrix(img_path):\n",
        "  image = Image.open(img_path).convert('L') # 'L'version single-channel image\n",
        "  # image = image.resize((28, 28)) # Dimension par defaut des images dans le modele\n",
        "  image = np.array(image)\n",
        "  image[image != 255] = 0\n",
        "  return image"
      ]
    },
    {
      "attachments": {},
      "cell_type": "markdown",
      "metadata": {
        "id": "EzrF5exd7FSi"
      },
      "source": [
        "# Algorithme de decoupage sur les colonnes"
      ]
    },
    {
      "cell_type": "code",
      "execution_count": 3,
      "metadata": {
        "id": "OpI72qBh6_Z7"
      },
      "outputs": [],
      "source": [
        "def get_first_column_color(image):\n",
        "    for i in range(0, image.shape[1]):\n",
        "        colonne = image[:, i]\n",
        "        if colonne.mean() != 255:\n",
        "            return i\n",
        "    return image.shape[1]\n",
        "\n",
        "def get_first_column_no_color(image):\n",
        "    for i in range(0, image.shape[1]):\n",
        "        colonne = image[:, i]\n",
        "        if colonne.mean() == 255:\n",
        "            return i\n",
        "    return image.shape[1]\n",
        "\n",
        "def resize_x_axis(image):\n",
        "    debut = get_first_column_color(image)\n",
        "    fin = get_first_column_no_color(image[:, debut:])\n",
        "    return (image[:, debut : debut + fin], debut + fin)"
      ]
    },
    {
      "attachments": {},
      "cell_type": "markdown",
      "metadata": {
        "id": "1XaIG0_47cG4"
      },
      "source": [
        "# Algorithme de decoupage sur les lignes"
      ]
    },
    {
      "cell_type": "code",
      "execution_count": 4,
      "metadata": {
        "id": "EysA5qzH7h4B"
      },
      "outputs": [],
      "source": [
        "def get_first_line_color(image):\n",
        "    for i in range(0, image.shape[0]):\n",
        "        ligne = image[i, :]\n",
        "        if ligne.mean() < 255:\n",
        "            return i\n",
        "    return image.shape[0]\n",
        "\n",
        "def get_first_line_no_color(image):\n",
        "    for i in range(0, image.shape[0]):\n",
        "        ligne = image[i, :]\n",
        "        if ligne.mean() == 255:\n",
        "            return i\n",
        "    return image.shape[0]\n",
        "\n",
        "def resize_y_axis(image):\n",
        "    debut = get_first_line_color(image)\n",
        "    fin = get_first_line_no_color(image[debut:, :])\n",
        "    return image[debut : debut + fin, :]"
      ]
    },
    {
      "attachments": {},
      "cell_type": "markdown",
      "metadata": {
        "id": "rM4Y7zZn7qfL"
      },
      "source": [
        "# Algorithme de redimensionner l'image pour extraire l'image"
      ]
    },
    {
      "cell_type": "code",
      "execution_count": 5,
      "metadata": {
        "id": "CvwCGFPz72xc"
      },
      "outputs": [],
      "source": [
        "def resize(image):\n",
        "    image, fin = resize_x_axis(image)\n",
        "    return (resize_y_axis(image), fin)\n",
        "\n",
        "def fill_image(image):\n",
        "    if image.shape[1] > image.shape[0]:\n",
        "      diff = image.shape[1] - image.shape[0]\n",
        "      for i in range(0, int(diff / 2)):\n",
        "        image = np.insert(image, 0, np.zeros((image.shape[1])), axis=0)\n",
        "      for i in range(0, int(diff / 2)):\n",
        "        image = np.insert(image, image.shape[0], np.zeros((image.shape[1])), axis=0)\n",
        "    else:\n",
        "      diff = image.shape[0] - image.shape[1]\n",
        "      for i in range(0, int(diff / 2)):\n",
        "        image = np.insert(image, 0, np.zeros((image.shape[0])), axis=1)\n",
        "      for i in range(0, int(diff / 2)):\n",
        "        image = np.insert(image, image.shape[1], np.zeros((image.shape[0])), axis=1)\n",
        "    return image"
      ]
    },
    {
      "attachments": {},
      "cell_type": "markdown",
      "metadata": {
        "id": "2UCS_-6CE8tj"
      },
      "source": [
        "# Alorithme pour decouper une image"
      ]
    },
    {
      "cell_type": "code",
      "execution_count": 6,
      "metadata": {
        "id": "Bfy-SbSeFDex"
      },
      "outputs": [],
      "source": [
        "def split_image(image):\n",
        "  array = []\n",
        "  while image.size != 0:\n",
        "    \n",
        "    img, index = resize(image)\n",
        "    \n",
        "    # Fill the image for obtain square\n",
        "    image = fill_image(img)\n",
        "\n",
        "    # Convertion en 28 x 28\n",
        "    img = Image.fromarray(image)\n",
        "    img = img.resize((28, 28))\n",
        "    \n",
        "    array.append(img)\n",
        "    \n",
        "    image = image[:, index:]\n",
        "  array.pop()\n",
        "  return array"
      ]
    },
    {
      "cell_type": "code",
      "execution_count": 11,
      "metadata": {
        "id": "ysC6NLpT8hNC"
      },
      "outputs": [
        {
          "ename": "KeyboardInterrupt",
          "evalue": "",
          "output_type": "error",
          "traceback": [
            "\u001b[0;31m---------------------------------------------------------------------------\u001b[0m",
            "\u001b[0;31mKeyboardInterrupt\u001b[0m                         Traceback (most recent call last)",
            "Cell \u001b[0;32mIn[11], line 22\u001b[0m\n\u001b[1;32m     20\u001b[0m     element \u001b[39m+\u001b[39m\u001b[39m=\u001b[39m \u001b[39mstr\u001b[39m(key)\n\u001b[1;32m     21\u001b[0m   \u001b[39mreturn\u001b[39;00m element\n\u001b[0;32m---> 22\u001b[0m get_equation(image)\n",
            "Cell \u001b[0;32mIn[11], line 9\u001b[0m, in \u001b[0;36mget_equation\u001b[0;34m(image)\u001b[0m\n\u001b[1;32m      8\u001b[0m \u001b[39mdef\u001b[39;00m \u001b[39mget_equation\u001b[39m(image):\n\u001b[0;32m----> 9\u001b[0m   array \u001b[39m=\u001b[39m split_image(image)\n\u001b[1;32m     10\u001b[0m   element \u001b[39m=\u001b[39m \u001b[39m'\u001b[39m\u001b[39m'\u001b[39m\n\u001b[1;32m     11\u001b[0m   \u001b[39mprint\u001b[39m(\u001b[39mlen\u001b[39m(array))\n",
            "Cell \u001b[0;32mIn[6], line 8\u001b[0m, in \u001b[0;36msplit_image\u001b[0;34m(image)\u001b[0m\n\u001b[1;32m      5\u001b[0m img, index \u001b[39m=\u001b[39m resize(image)\n\u001b[1;32m      7\u001b[0m \u001b[39m# Fill the image for obtain square\u001b[39;00m\n\u001b[0;32m----> 8\u001b[0m image \u001b[39m=\u001b[39m fill_image(img)\n\u001b[1;32m     10\u001b[0m \u001b[39m# Convertion en 28 x 28\u001b[39;00m\n\u001b[1;32m     11\u001b[0m img \u001b[39m=\u001b[39m Image\u001b[39m.\u001b[39mfromarray(image)\n",
            "Cell \u001b[0;32mIn[5], line 17\u001b[0m, in \u001b[0;36mfill_image\u001b[0;34m(image)\u001b[0m\n\u001b[1;32m     15\u001b[0m     image \u001b[39m=\u001b[39m np\u001b[39m.\u001b[39minsert(image, \u001b[39m0\u001b[39m, np\u001b[39m.\u001b[39mzeros((image\u001b[39m.\u001b[39mshape[\u001b[39m0\u001b[39m])), axis\u001b[39m=\u001b[39m\u001b[39m1\u001b[39m)\n\u001b[1;32m     16\u001b[0m   \u001b[39mfor\u001b[39;00m i \u001b[39min\u001b[39;00m \u001b[39mrange\u001b[39m(\u001b[39m0\u001b[39m, \u001b[39mint\u001b[39m(diff \u001b[39m/\u001b[39m \u001b[39m2\u001b[39m)):\n\u001b[0;32m---> 17\u001b[0m     image \u001b[39m=\u001b[39m np\u001b[39m.\u001b[39;49minsert(image, image\u001b[39m.\u001b[39;49mshape[\u001b[39m1\u001b[39;49m], np\u001b[39m.\u001b[39;49mzeros((image\u001b[39m.\u001b[39;49mshape[\u001b[39m0\u001b[39;49m])), axis\u001b[39m=\u001b[39;49m\u001b[39m1\u001b[39;49m)\n\u001b[1;32m     18\u001b[0m \u001b[39mreturn\u001b[39;00m image\n",
            "File \u001b[0;32m<__array_function__ internals>:200\u001b[0m, in \u001b[0;36minsert\u001b[0;34m(*args, **kwargs)\u001b[0m\n",
            "File \u001b[0;32m~/.local/lib/python3.11/site-packages/numpy/lib/function_base.py:5394\u001b[0m, in \u001b[0;36minsert\u001b[0;34m(arr, obj, values, axis)\u001b[0m\n\u001b[1;32m   5390\u001b[0m     index \u001b[39m+\u001b[39m\u001b[39m=\u001b[39m N\n\u001b[1;32m   5392\u001b[0m \u001b[39m# There are some object array corner cases here, but we cannot avoid\u001b[39;00m\n\u001b[1;32m   5393\u001b[0m \u001b[39m# that:\u001b[39;00m\n\u001b[0;32m-> 5394\u001b[0m values \u001b[39m=\u001b[39m array(values, copy\u001b[39m=\u001b[39m\u001b[39mFalse\u001b[39;00m, ndmin\u001b[39m=\u001b[39marr\u001b[39m.\u001b[39mndim, dtype\u001b[39m=\u001b[39marr\u001b[39m.\u001b[39mdtype)\n\u001b[1;32m   5395\u001b[0m \u001b[39mif\u001b[39;00m indices\u001b[39m.\u001b[39mndim \u001b[39m==\u001b[39m \u001b[39m0\u001b[39m:\n\u001b[1;32m   5396\u001b[0m     \u001b[39m# broadcasting is very different here, since a[:,0,:] = ... behaves\u001b[39;00m\n\u001b[1;32m   5397\u001b[0m     \u001b[39m# very different from a[:,[0],:] = ...! This changes values so that\u001b[39;00m\n\u001b[1;32m   5398\u001b[0m     \u001b[39m# it works likes the second case. (here a[:,0:1,:])\u001b[39;00m\n\u001b[1;32m   5399\u001b[0m     values \u001b[39m=\u001b[39m np\u001b[39m.\u001b[39mmoveaxis(values, \u001b[39m0\u001b[39m, axis)\n",
            "\u001b[0;31mKeyboardInterrupt\u001b[0m: "
          ]
        }
      ],
      "source": [
        "image = convert_image_to_matrix('./9_1_0_scaled_x1_2y1_2.png')\n",
        "def convert_to_ligne(img):\n",
        "  x = np.array(img)\n",
        "  x = x.reshape(1, 784)\n",
        "  x[x != 255] = 0\n",
        "  return x\n",
        "\n",
        "def get_equation(image):\n",
        "  array = split_image(image)\n",
        "  element = ''\n",
        "  print(len(array))\n",
        "  for img in array:\n",
        "    img.show()\n",
        "    X = convert_to_ligne(np.array(img))\n",
        "    predict = forest_model.predict(X)[0]\n",
        "    if predict > 9:\n",
        "      key = list(filter(lambda x: operators[x] == predict, operators))[0]\n",
        "    else:\n",
        "      key = predict        \n",
        "    element += str(key)\n",
        "  return element\n",
        "get_equation(image)"
      ]
    },
    {
      "cell_type": "code",
      "execution_count": null,
      "metadata": {},
      "outputs": [],
      "source": []
    }
  ],
  "metadata": {
    "colab": {
      "provenance": [],
      "toc_visible": true
    },
    "kernelspec": {
      "display_name": "Python 3",
      "name": "python3"
    },
    "language_info": {
      "codemirror_mode": {
        "name": "ipython",
        "version": 3
      },
      "file_extension": ".py",
      "mimetype": "text/x-python",
      "name": "python",
      "nbconvert_exporter": "python",
      "pygments_lexer": "ipython3",
      "version": "3.11.3"
    }
  },
  "nbformat": 4,
  "nbformat_minor": 0
}
