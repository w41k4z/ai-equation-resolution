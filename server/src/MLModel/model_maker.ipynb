{
 "cells": [
  {
   "cell_type": "code",
   "execution_count": null,
   "id": "fd65ce80",
   "metadata": {},
   "outputs": [],
   "source": []
  },
  {
   "cell_type": "code",
   "execution_count": 1,
   "id": "1466d476",
   "metadata": {},
   "outputs": [],
   "source": [
    "from PIL import Image\n",
    "import numpy as np\n",
    "import pandas as pd\n",
    "import os\n",
    "import matplotlib.pyplot as plt\n",
    "from joblib import dump"
   ]
  },
  {
   "cell_type": "code",
   "execution_count": 4,
   "id": "af2c4156",
   "metadata": {},
   "outputs": [],
   "source": [
    "# <\n",
    "createcsv(96881,108466-96881,\"L\")\n",
    "getLetter(\"L.csv\", \"L\", \"L\")\n",
    "\n",
    "# >\n",
    "createcsv(108467,120802-108467,\"M\")\n",
    "getLetter(\"M.csv\", \"M\", \"M\")\n",
    "\n",
    "# <=\n",
    "createcsv(120803,139812-120803,\"N\")\n",
    "getLetter(\"N.csv\", \"N\", \"N\")\n",
    "\n",
    "# >=\n",
    "createcsv(222791,234356-222791,\"R\")\n",
    "getLetter(\"R.csv\", \"R\", \"R\")"
   ]
  },
  {
   "cell_type": "code",
   "execution_count": 3,
   "id": "fc903fab",
   "metadata": {},
   "outputs": [],
   "source": [
    "def createcsv(sk,nr,lettre):\n",
    "    pd.read_csv(\"/home/kanto/ETUDE/Mr_Tsinjo/analyse_de_donne/11_tp_equation/data/A_Z Handwritten Data.csv\",header=None,skiprows=sk,nrows=nr).to_csv(lettre+\".csv\",index=False,header=None)\n",
    "createcsv(74447,81664-74447,\"H\")   \n",
    "def invert(x):\n",
    "    return 255-x\n",
    "def getLetter(path,folder,letter):\n",
    "    data=pd.read_csv(path,header=None)\n",
    "    data=data.drop(data.columns[0],axis=1)\n",
    "    data=data.applymap(invert)\n",
    "    \n",
    "    result = data.values\n",
    "    for row in range(result.shape[0]):\n",
    "        image = result[row].reshape((28, 28)).astype(np.uint8)\n",
    "        result_image = Image.fromarray(image)\n",
    "        result_image.save(folder + \"/\" + letter + \"_\" + str(row+1) + \".png\""
   ]
  },
  {
   "cell_type": "code",
   "execution_count": 12,
   "id": "41d50d5b",
   "metadata": {},
   "outputs": [],
   "source": [
    "createcsv(56082, 67521-56082, \"E\")\n",
    "getLetter(\"E.csv\", \"E\", \"E\")\n",
    "\n",
    "#Suppresion des lignes blanches de l'image ett Attribution de l'etiquette\n",
    "def supprimer_lignes_blanches(image_path,etiquette):\n",
    "    # Charger l'image\n",
    "    image = Image.open(image_path)\n",
    "    largeur, hauteur = image.size\n",
    "\n",
    "    # Convertir l'image en niveau de gris\n",
    "    image = image.convert(\"L\")\n",
    "    \n",
    "    # Convertir l'image en tableau NumPy\n",
    "    image_array = np.array(image)\n",
    "\n",
    "    # Supprimer les lignes entièrement blanches horizontales\n",
    "    indices_lignes_blanches = np.all(image_array == 255, axis=1)\n",
    "    image_array = image_array[~indices_lignes_blanches]\n",
    "\n",
    "    # Supprimer les lignes entièrement blanches verticales\n",
    "    indices_colonnes_blanches = np.all(image_array == 255, axis=0)\n",
    "    image_array = image_array[:, ~indices_colonnes_blanches]\n",
    "\n",
    "    # Créer une nouvelle image à partir du tableau NumPy modifié\n",
    "    result_image = Image.fromarray(image_array).resize((28, 28))\n",
    "\n",
    "    # Récupérer les pixels de l'image sans lignes blanches\n",
    "    pixels = list(result_image.getdata())\n",
    "    \n",
    "    pixels.append(etiquette)\n",
    "    return pixels\n",
    "\n",
    "# Prend tous le images\n",
    "def getAllImage(result_array, path, folder, etiquette):\n",
    "    files = os.listdir(path + \"/\" + folder)\n",
    "    for file in files:\n",
    "        result_array.append(supprimer_lignes_blanches(path + \"/\" + folder + \"/\" + file, etiquette))\n",
    "\n",
    "def prepareAllData():\n",
    "    # Tableau contenant tous les données avec leur étiquette\n",
    "    result_array = []\n",
    "    \n",
    "    # Path contenant les données\n",
    "    data_source = \"/home/kanto/ETUDE/Mr_Tsinjo/analyse_de_donne/11_tp_equation/data/CompleteImages/All data (Compressed)/\"\n",
    "    # etiquettage de tous les images\n",
    "    #  10 -> *   11 -> +  12 -> -  13 -> %\n",
    "    getAllImage(result_array, data_source, '0', 0)\n",
    "    getAllImage(result_array, data_source, '1', 1)\n",
    "    getAllImage(result_array, data_source, '2', 2)\n",
    "    getAllImage(result_array, data_source, '3', 3)\n",
    "    getAllImage(result_array, data_source, '4', 4)\n",
    "    getAllImage(result_array, data_source, '5', 5)\n",
    "    getAllImage(result_array, data_source, '6', 6)\n",
    "    getAllImage(result_array, data_source, '7', 7)\n",
    "    getAllImage(result_array, data_source, '8', 8)\n",
    "    getAllImage(result_array, data_source, '9', 9)\n",
    "    getAllImage(result_array, data_source, '*', 10)    \n",
    "    getAllImage(result_array, data_source, '+', 11)    \n",
    "    getAllImage(result_array, data_source, '-', 12)        \n",
    "    getAllImage(result_array, data_source, '%', 13)  \n",
    "    getAllImage(result_array, data_source, '[', 14)\n",
    "    getAllImage(result_array, data_source, ']', 15)\n",
    "    getAllImage(result_array, \"./\", \"X\", 16)\n",
    "    getAllImage(result_array, \"./\", \"E\", 17)\n",
    "    getAllImage(result_array, \"./\", \"V\", 18)\n",
    "    getAllImage(result_array, \"./\", \"L\", 19) # <\n",
    "    getAllImage(result_array, \"./\", \"M\", 20) # >\n",
    "    getAllImage(result_array, \"./\", \"N\", 21) # <=\n",
    "    getAllImage(result_array, \"./\", \"R\", 22) # >=\n",
    "    \n",
    "    return np.array(result_array)\n",
    "image_array=prepareAllData()\n",
    "\n",
    "#print(image_array[:,-1])"
   ]
  },
  {
   "cell_type": "code",
   "execution_count": 13,
   "id": "0dda6700",
   "metadata": {},
   "outputs": [],
   "source": [
    "# Attributs et etiquettes\n",
    "X = image_array[:, 0:-1]\n",
    "y = image_array[:, -1]\n",
    "\n",
    "# division donnees de test et entrainement\n",
    "from sklearn.model_selection import train_test_split\n",
    "X_train, X_test, y_train, y_test = train_test_split(X, y, test_size = 0.20, random_state = 0)"
   ]
  },
  {
   "cell_type": "code",
   "execution_count": 14,
   "id": "ab7faf23",
   "metadata": {},
   "outputs": [],
   "source": [
    "# Entrainement\n",
    "from sklearn.ensemble import RandomForestClassifier\n",
    "clf = RandomForestClassifier(random_state=0)\n",
    "clf = clf.fit(X_train, y_train)"
   ]
  },
  {
   "cell_type": "code",
   "execution_count": 15,
   "id": "71e160bb",
   "metadata": {},
   "outputs": [],
   "source": [
    "y_pred = clf.predict(X_test)"
   ]
  },
  {
   "cell_type": "code",
   "execution_count": 8,
   "id": "db76b692",
   "metadata": {},
   "outputs": [
    {
     "name": "stdout",
     "output_type": "stream",
     "text": [
      "[[4056    0    0    0    0    0    0    0    0    0    0    0    0    0\n",
      "     0    0]\n",
      " [   1 3776    2    0    2    1    0   54    1    8    0    1  148   78\n",
      "     5    9]\n",
      " [   0   10 4102    1    2    1    1   10    4    4    0    0    2    1\n",
      "    13    4]\n",
      " [   0    1    1 4286    0   11    0    3   10   13    0    0    0    0\n",
      "     0    4]\n",
      " [   0   11    2    0 4276    0    2    4    0   12   10   12    3    2\n",
      "     1    0]\n",
      " [   0    0    0   10    3 4124    3    4    0    3    1    0    0    0\n",
      "     0    0]\n",
      " [   2    0    0    0    0    0 4087    0    4    2    0    0    0    0\n",
      "    11    0]\n",
      " [   0    7    6    2   12    1    0 3928    2   11    1   17   11   26\n",
      "     1   18]\n",
      " [   0    1    1    2    0    0    2    0 4032   11    0    0    0    0\n",
      "     0    0]\n",
      " [  11    6    4   17    4    2    0   11    7 4050    0    0    5    2\n",
      "     0   14]\n",
      " [   0    1    0    0    7    0    0    0    0    0 4026   17    0    0\n",
      "     0    0]\n",
      " [   0   34    1    1   14    0    1   10    0    1   21 4321   39   16\n",
      "     6    2]\n",
      " [   0    0    0    0    0    0    2    0    0    1    1    1 4189   64\n",
      "     0    0]\n",
      " [   0   20    0    0    0    0    1   10    0    0    0    1  205 4501\n",
      "    10    5]\n",
      " [   0    8   10    0    1    0    9    3    0    0    0    2   32   18\n",
      "  3874    1]\n",
      " [   0   17    0    6    0    2    0   47    0   13    1    1   86   40\n",
      "     5 3634]]\n"
     ]
    }
   ],
   "source": [
    "from sklearn.metrics import confusion_matrix\n",
    "cm = confusion_matrix(y_test, y_pred)\n",
    "print(cm)"
   ]
  },
  {
   "cell_type": "code",
   "execution_count": 16,
   "id": "8c80dd81",
   "metadata": {},
   "outputs": [
    {
     "data": {
      "text/plain": [
       "0.981142699547241"
      ]
     },
     "execution_count": 16,
     "metadata": {},
     "output_type": "execute_result"
    }
   ],
   "source": [
    "from sklearn.metrics import accuracy_score\n",
    "accuracy_score(y_test, y_pred)"
   ]
  },
  {
   "cell_type": "code",
   "execution_count": 20,
   "id": "7ae86ca7",
   "metadata": {},
   "outputs": [
    {
     "ename": "NameError",
     "evalue": "name 'clf' is not defined",
     "output_type": "error",
     "traceback": [
      "\u001b[0;31m---------------------------------------------------------------------------\u001b[0m",
      "\u001b[0;31mNameError\u001b[0m                                 Traceback (most recent call last)",
      "Cell \u001b[0;32mIn[20], line 39\u001b[0m\n\u001b[1;32m     37\u001b[0m pixels \u001b[38;5;241m=\u001b[39m np\u001b[38;5;241m.\u001b[39marray([pixels])\n\u001b[1;32m     38\u001b[0m \u001b[38;5;66;03m#pixels=improveData(pixels)\u001b[39;00m\n\u001b[0;32m---> 39\u001b[0m \u001b[38;5;28mprint\u001b[39m(\u001b[43mclf\u001b[49m\u001b[38;5;241m.\u001b[39mpredict(pixels))\n",
      "\u001b[0;31mNameError\u001b[0m: name 'clf' is not defined"
     ]
    }
   ],
   "source": [
    "def supprimer(image_path):\n",
    "    # Charger l'image\n",
    "    image = Image.open(image_path)\n",
    "    largeur, hauteur = image.size\n",
    "\n",
    "    # Convertir l'image en niveau de gris\n",
    "    image = image.convert(\"L\")\n",
    "    \n",
    "    # Convertir l'image en tableau NumPy\n",
    "    image_array = np.array(image)\n",
    "\n",
    "    # Supprimer les lignes entièrement blanches horizontales\n",
    "    indices_lignes_blanches = np.all(image_array == 255, axis=1)\n",
    "    image_array = image_array[~indices_lignes_blanches]\n",
    "\n",
    "    # Supprimer les lignes entièrement blanches verticales\n",
    "    indices_colonnes_blanches = np.all(image_array == 255, axis=0)\n",
    "    image_array = image_array[:, ~indices_colonnes_blanches]\n",
    "\n",
    "    # Créer une nouvelle image à partir du tableau NumPy modifié\n",
    "    result_image = Image.fromarray(image_array)\n",
    "    \n",
    "     # Redimensionner l'image à 28x28\n",
    "    result_image = result_image.resize((28, 28))\n",
    "    \n",
    "     # Enregistrer l'image modifiée\n",
    "    result_image.save(\"image_sans_lignes_blanches.png\")\n",
    "\n",
    "    # Charger à nouveau l'image sans lignes blanches\n",
    "    image_sans_lignes_blanches = Image.open(\"image_sans_lignes_blanches.png\")\n",
    "    # Récupérer les pixels de l'image sans lignes blanches\n",
    "    pixels = list(result_image.getdata())\n",
    "    \n",
    "   \n",
    "    return pixels\n",
    "pixels=supprimer(\"/home/kanto/ETUDE/Mr_Tsinjo/analyse_de_donne/V/V_1.png\")\n",
    "pixels = np.array([pixels])\n",
    "#pixels=improveData(pixels)\n",
    "print(clf.predict(pixels))"
   ]
  },
  {
   "cell_type": "code",
   "execution_count": 11,
   "id": "31bc4fd2",
   "metadata": {},
   "outputs": [
    {
     "data": {
      "text/plain": [
       "['model_h.joblib']"
      ]
     },
     "execution_count": 11,
     "metadata": {},
     "output_type": "execute_result"
    }
   ],
   "source": [
    "dump(clf, \"model_x_v_e.joblib\")"
   ]
  },
  {
   "cell_type": "code",
   "execution_count": null,
   "id": "c2308404",
   "metadata": {},
   "outputs": [],
   "source": []
  }
 ],
 "metadata": {
  "kernelspec": {
   "display_name": "Python 3 (ipykernel)",
   "language": "python",
   "name": "python3"
  },
  "language_info": {
   "codemirror_mode": {
    "name": "ipython",
    "version": 3
   },
   "file_extension": ".py",
   "mimetype": "text/x-python",
   "name": "python",
   "nbconvert_exporter": "python",
   "pygments_lexer": "ipython3",
   "version": "3.10.9"
  }
 },
 "nbformat": 4,
 "nbformat_minor": 5
}
